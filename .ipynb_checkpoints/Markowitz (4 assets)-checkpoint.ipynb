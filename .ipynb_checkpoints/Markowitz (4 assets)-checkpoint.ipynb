{
 "cells": [
  {
   "cell_type": "code",
   "execution_count": 1,
   "metadata": {},
   "outputs": [],
   "source": [
    "import numpy as np\n",
    "import pandas as pd\n",
    "import matplotlib.pyplot as plt\n",
    "from pandas_datareader import data as wb"
   ]
  },
  {
   "cell_type": "code",
   "execution_count": 5,
   "metadata": {},
   "outputs": [],
   "source": [
    "\n",
    "apple_close=pd.read_csv('AAPL_CLOSE',index_col='Date',parse_dates=True)\n",
    "amazon_close=pd.read_csv('AMZN_CLOSE',index_col='Date',parse_dates=True)\n",
    "ibm_close=pd.read_csv('IBM_CLOSE',index_col='Date',parse_dates=True)\n",
    "cisco_close=pd.read_csv('CISCO_CLOSE',index_col='Date',parse_dates=True)"
   ]
  },
  {
   "cell_type": "code",
   "execution_count": 8,
   "metadata": {},
   "outputs": [
    {
     "data": {
      "text/html": [
       "<div>\n",
       "<style scoped>\n",
       "    .dataframe tbody tr th:only-of-type {\n",
       "        vertical-align: middle;\n",
       "    }\n",
       "\n",
       "    .dataframe tbody tr th {\n",
       "        vertical-align: top;\n",
       "    }\n",
       "\n",
       "    .dataframe thead th {\n",
       "        text-align: right;\n",
       "    }\n",
       "</style>\n",
       "<table border=\"1\" class=\"dataframe\">\n",
       "  <thead>\n",
       "    <tr style=\"text-align: right;\">\n",
       "      <th></th>\n",
       "      <th>apple_close</th>\n",
       "      <th>amazon_close</th>\n",
       "      <th>ibm_close</th>\n",
       "      <th>cisco_close</th>\n",
       "    </tr>\n",
       "    <tr>\n",
       "      <th>Date</th>\n",
       "      <th></th>\n",
       "      <th></th>\n",
       "      <th></th>\n",
       "      <th></th>\n",
       "    </tr>\n",
       "  </thead>\n",
       "  <tbody>\n",
       "    <tr>\n",
       "      <th>2012-01-03</th>\n",
       "      <td>53.063218</td>\n",
       "      <td>179.03</td>\n",
       "      <td>160.830881</td>\n",
       "      <td>15.752778</td>\n",
       "    </tr>\n",
       "    <tr>\n",
       "      <th>2012-01-04</th>\n",
       "      <td>53.348386</td>\n",
       "      <td>177.51</td>\n",
       "      <td>160.174781</td>\n",
       "      <td>16.057180</td>\n",
       "    </tr>\n",
       "    <tr>\n",
       "      <th>2012-01-05</th>\n",
       "      <td>53.940658</td>\n",
       "      <td>177.61</td>\n",
       "      <td>159.415086</td>\n",
       "      <td>15.997991</td>\n",
       "    </tr>\n",
       "    <tr>\n",
       "      <th>2012-01-06</th>\n",
       "      <td>54.504543</td>\n",
       "      <td>182.61</td>\n",
       "      <td>157.584912</td>\n",
       "      <td>15.938801</td>\n",
       "    </tr>\n",
       "    <tr>\n",
       "      <th>2012-01-09</th>\n",
       "      <td>54.418089</td>\n",
       "      <td>178.56</td>\n",
       "      <td>156.764786</td>\n",
       "      <td>16.040268</td>\n",
       "    </tr>\n",
       "  </tbody>\n",
       "</table>\n",
       "</div>"
      ],
      "text/plain": [
       "            apple_close  amazon_close   ibm_close  cisco_close\n",
       "Date                                                          \n",
       "2012-01-03    53.063218        179.03  160.830881    15.752778\n",
       "2012-01-04    53.348386        177.51  160.174781    16.057180\n",
       "2012-01-05    53.940658        177.61  159.415086    15.997991\n",
       "2012-01-06    54.504543        182.61  157.584912    15.938801\n",
       "2012-01-09    54.418089        178.56  156.764786    16.040268"
      ]
     },
     "execution_count": 8,
     "metadata": {},
     "output_type": "execute_result"
    }
   ],
   "source": [
    "stocks=pd.concat([apple_close,amazon_close,ibm_close,cisco_close],axis=1)\n",
    "stocks.columns=['apple_close','amazon_close','ibm_close','cisco_close']\n",
    "stocks.head()"
   ]
  },
  {
   "cell_type": "code",
   "execution_count": 33,
   "metadata": {},
   "outputs": [
    {
     "data": {
      "text/html": [
       "<div>\n",
       "<style scoped>\n",
       "    .dataframe tbody tr th:only-of-type {\n",
       "        vertical-align: middle;\n",
       "    }\n",
       "\n",
       "    .dataframe tbody tr th {\n",
       "        vertical-align: top;\n",
       "    }\n",
       "\n",
       "    .dataframe thead th {\n",
       "        text-align: right;\n",
       "    }\n",
       "</style>\n",
       "<table border=\"1\" class=\"dataframe\">\n",
       "  <thead>\n",
       "    <tr style=\"text-align: right;\">\n",
       "      <th></th>\n",
       "      <th>count</th>\n",
       "      <th>mean</th>\n",
       "      <th>std</th>\n",
       "      <th>min</th>\n",
       "      <th>25%</th>\n",
       "      <th>50%</th>\n",
       "      <th>75%</th>\n",
       "      <th>max</th>\n",
       "    </tr>\n",
       "  </thead>\n",
       "  <tbody>\n",
       "    <tr>\n",
       "      <th>apple_close</th>\n",
       "      <td>1258.0</td>\n",
       "      <td>88.500637</td>\n",
       "      <td>21.050096</td>\n",
       "      <td>51.135441</td>\n",
       "      <td>70.479587</td>\n",
       "      <td>89.544408</td>\n",
       "      <td>107.346693</td>\n",
       "      <td>127.446743</td>\n",
       "    </tr>\n",
       "    <tr>\n",
       "      <th>amazon_close</th>\n",
       "      <td>1258.0</td>\n",
       "      <td>406.004230</td>\n",
       "      <td>182.712524</td>\n",
       "      <td>175.930000</td>\n",
       "      <td>266.627500</td>\n",
       "      <td>333.060000</td>\n",
       "      <td>534.012500</td>\n",
       "      <td>844.360000</td>\n",
       "    </tr>\n",
       "    <tr>\n",
       "      <th>ibm_close</th>\n",
       "      <td>1258.0</td>\n",
       "      <td>159.677827</td>\n",
       "      <td>15.616340</td>\n",
       "      <td>112.696469</td>\n",
       "      <td>148.380286</td>\n",
       "      <td>163.535701</td>\n",
       "      <td>171.240460</td>\n",
       "      <td>190.252925</td>\n",
       "    </tr>\n",
       "    <tr>\n",
       "      <th>cisco_close</th>\n",
       "      <td>1258.0</td>\n",
       "      <td>22.239860</td>\n",
       "      <td>4.563858</td>\n",
       "      <td>12.894101</td>\n",
       "      <td>18.297083</td>\n",
       "      <td>22.319890</td>\n",
       "      <td>26.121773</td>\n",
       "      <td>30.870306</td>\n",
       "    </tr>\n",
       "  </tbody>\n",
       "</table>\n",
       "</div>"
      ],
      "text/plain": [
       "               count        mean         std         min         25%  \\\n",
       "apple_close   1258.0   88.500637   21.050096   51.135441   70.479587   \n",
       "amazon_close  1258.0  406.004230  182.712524  175.930000  266.627500   \n",
       "ibm_close     1258.0  159.677827   15.616340  112.696469  148.380286   \n",
       "cisco_close   1258.0   22.239860    4.563858   12.894101   18.297083   \n",
       "\n",
       "                     50%         75%         max  \n",
       "apple_close    89.544408  107.346693  127.446743  \n",
       "amazon_close  333.060000  534.012500  844.360000  \n",
       "ibm_close     163.535701  171.240460  190.252925  \n",
       "cisco_close    22.319890   26.121773   30.870306  "
      ]
     },
     "execution_count": 33,
     "metadata": {},
     "output_type": "execute_result"
    }
   ],
   "source": [
    "stocks.describe().transpose()"
   ]
  },
  {
   "cell_type": "code",
   "execution_count": 15,
   "metadata": {},
   "outputs": [
    {
     "data": {
      "text/html": [
       "<div>\n",
       "<style scoped>\n",
       "    .dataframe tbody tr th:only-of-type {\n",
       "        vertical-align: middle;\n",
       "    }\n",
       "\n",
       "    .dataframe tbody tr th {\n",
       "        vertical-align: top;\n",
       "    }\n",
       "\n",
       "    .dataframe thead th {\n",
       "        text-align: right;\n",
       "    }\n",
       "</style>\n",
       "<table border=\"1\" class=\"dataframe\">\n",
       "  <thead>\n",
       "    <tr style=\"text-align: right;\">\n",
       "      <th></th>\n",
       "      <th>apple_close</th>\n",
       "      <th>amazon_close</th>\n",
       "      <th>ibm_close</th>\n",
       "      <th>cisco_close</th>\n",
       "    </tr>\n",
       "    <tr>\n",
       "      <th>Date</th>\n",
       "      <th></th>\n",
       "      <th></th>\n",
       "      <th></th>\n",
       "      <th></th>\n",
       "    </tr>\n",
       "  </thead>\n",
       "  <tbody>\n",
       "    <tr>\n",
       "      <th>2012-01-03</th>\n",
       "      <td>NaN</td>\n",
       "      <td>NaN</td>\n",
       "      <td>NaN</td>\n",
       "      <td>NaN</td>\n",
       "    </tr>\n",
       "    <tr>\n",
       "      <th>2012-01-04</th>\n",
       "      <td>0.005374</td>\n",
       "      <td>-0.008490</td>\n",
       "      <td>-0.004079</td>\n",
       "      <td>0.019324</td>\n",
       "    </tr>\n",
       "    <tr>\n",
       "      <th>2012-01-05</th>\n",
       "      <td>0.011102</td>\n",
       "      <td>0.000563</td>\n",
       "      <td>-0.004743</td>\n",
       "      <td>-0.003686</td>\n",
       "    </tr>\n",
       "    <tr>\n",
       "      <th>2012-01-06</th>\n",
       "      <td>0.010454</td>\n",
       "      <td>0.028152</td>\n",
       "      <td>-0.011481</td>\n",
       "      <td>-0.003700</td>\n",
       "    </tr>\n",
       "    <tr>\n",
       "      <th>2012-01-09</th>\n",
       "      <td>-0.001586</td>\n",
       "      <td>-0.022178</td>\n",
       "      <td>-0.005204</td>\n",
       "      <td>0.006366</td>\n",
       "    </tr>\n",
       "  </tbody>\n",
       "</table>\n",
       "</div>"
      ],
      "text/plain": [
       "            apple_close  amazon_close  ibm_close  cisco_close\n",
       "Date                                                         \n",
       "2012-01-03          NaN           NaN        NaN          NaN\n",
       "2012-01-04     0.005374     -0.008490  -0.004079     0.019324\n",
       "2012-01-05     0.011102      0.000563  -0.004743    -0.003686\n",
       "2012-01-06     0.010454      0.028152  -0.011481    -0.003700\n",
       "2012-01-09    -0.001586     -0.022178  -0.005204     0.006366"
      ]
     },
     "execution_count": 15,
     "metadata": {},
     "output_type": "execute_result"
    }
   ],
   "source": [
    "returns=stocks.pct_change(1)\n",
    "returns.head()"
   ]
  },
  {
   "cell_type": "code",
   "execution_count": 27,
   "metadata": {},
   "outputs": [
    {
     "data": {
      "text/html": [
       "<div>\n",
       "<style scoped>\n",
       "    .dataframe tbody tr th:only-of-type {\n",
       "        vertical-align: middle;\n",
       "    }\n",
       "\n",
       "    .dataframe tbody tr th {\n",
       "        vertical-align: top;\n",
       "    }\n",
       "\n",
       "    .dataframe thead th {\n",
       "        text-align: right;\n",
       "    }\n",
       "</style>\n",
       "<table border=\"1\" class=\"dataframe\">\n",
       "  <thead>\n",
       "    <tr style=\"text-align: right;\">\n",
       "      <th></th>\n",
       "      <th>apple_close</th>\n",
       "      <th>amazon_close</th>\n",
       "      <th>ibm_close</th>\n",
       "      <th>cisco_close</th>\n",
       "    </tr>\n",
       "    <tr>\n",
       "      <th>Date</th>\n",
       "      <th></th>\n",
       "      <th></th>\n",
       "      <th></th>\n",
       "      <th></th>\n",
       "    </tr>\n",
       "  </thead>\n",
       "  <tbody>\n",
       "    <tr>\n",
       "      <th>2016-12-23</th>\n",
       "      <td>0.001978</td>\n",
       "      <td>-0.007503</td>\n",
       "      <td>-0.002095</td>\n",
       "      <td>0.002298</td>\n",
       "    </tr>\n",
       "    <tr>\n",
       "      <th>2016-12-27</th>\n",
       "      <td>0.006351</td>\n",
       "      <td>0.014213</td>\n",
       "      <td>0.002579</td>\n",
       "      <td>0.004913</td>\n",
       "    </tr>\n",
       "    <tr>\n",
       "      <th>2016-12-28</th>\n",
       "      <td>-0.004264</td>\n",
       "      <td>0.000946</td>\n",
       "      <td>-0.005684</td>\n",
       "      <td>-0.008475</td>\n",
       "    </tr>\n",
       "    <tr>\n",
       "      <th>2016-12-29</th>\n",
       "      <td>-0.000257</td>\n",
       "      <td>-0.009040</td>\n",
       "      <td>0.002467</td>\n",
       "      <td>0.001315</td>\n",
       "    </tr>\n",
       "    <tr>\n",
       "      <th>2016-12-30</th>\n",
       "      <td>-0.007796</td>\n",
       "      <td>-0.019970</td>\n",
       "      <td>-0.003661</td>\n",
       "      <td>-0.007879</td>\n",
       "    </tr>\n",
       "  </tbody>\n",
       "</table>\n",
       "</div>"
      ],
      "text/plain": [
       "            apple_close  amazon_close  ibm_close  cisco_close\n",
       "Date                                                         \n",
       "2016-12-23     0.001978     -0.007503  -0.002095     0.002298\n",
       "2016-12-27     0.006351      0.014213   0.002579     0.004913\n",
       "2016-12-28    -0.004264      0.000946  -0.005684    -0.008475\n",
       "2016-12-29    -0.000257     -0.009040   0.002467     0.001315\n",
       "2016-12-30    -0.007796     -0.019970  -0.003661    -0.007879"
      ]
     },
     "execution_count": 27,
     "metadata": {},
     "output_type": "execute_result"
    }
   ],
   "source": [
    "returns.tail()"
   ]
  },
  {
   "cell_type": "code",
   "execution_count": 18,
   "metadata": {},
   "outputs": [
    {
     "data": {
      "text/plain": [
       "apple_close     0.187442\n",
       "amazon_close    0.332073\n",
       "ibm_close       0.020148\n",
       "cisco_close     0.149815\n",
       "dtype: float64"
      ]
     },
     "execution_count": 18,
     "metadata": {},
     "output_type": "execute_result"
    }
   ],
   "source": [
    "returns.mean()*250\n"
   ]
  },
  {
   "cell_type": "code",
   "execution_count": 19,
   "metadata": {},
   "outputs": [
    {
     "data": {
      "text/html": [
       "<div>\n",
       "<style scoped>\n",
       "    .dataframe tbody tr th:only-of-type {\n",
       "        vertical-align: middle;\n",
       "    }\n",
       "\n",
       "    .dataframe tbody tr th {\n",
       "        vertical-align: top;\n",
       "    }\n",
       "\n",
       "    .dataframe thead th {\n",
       "        text-align: right;\n",
       "    }\n",
       "</style>\n",
       "<table border=\"1\" class=\"dataframe\">\n",
       "  <thead>\n",
       "    <tr style=\"text-align: right;\">\n",
       "      <th></th>\n",
       "      <th>apple_close</th>\n",
       "      <th>amazon_close</th>\n",
       "      <th>ibm_close</th>\n",
       "      <th>cisco_close</th>\n",
       "    </tr>\n",
       "  </thead>\n",
       "  <tbody>\n",
       "    <tr>\n",
       "      <th>apple_close</th>\n",
       "      <td>0.067522</td>\n",
       "      <td>0.018865</td>\n",
       "      <td>0.014369</td>\n",
       "      <td>0.017744</td>\n",
       "    </tr>\n",
       "    <tr>\n",
       "      <th>amazon_close</th>\n",
       "      <td>0.018865</td>\n",
       "      <td>0.095045</td>\n",
       "      <td>0.014812</td>\n",
       "      <td>0.019831</td>\n",
       "    </tr>\n",
       "    <tr>\n",
       "      <th>ibm_close</th>\n",
       "      <td>0.014369</td>\n",
       "      <td>0.014812</td>\n",
       "      <td>0.034547</td>\n",
       "      <td>0.017848</td>\n",
       "    </tr>\n",
       "    <tr>\n",
       "      <th>cisco_close</th>\n",
       "      <td>0.017744</td>\n",
       "      <td>0.019831</td>\n",
       "      <td>0.017848</td>\n",
       "      <td>0.051129</td>\n",
       "    </tr>\n",
       "  </tbody>\n",
       "</table>\n",
       "</div>"
      ],
      "text/plain": [
       "              apple_close  amazon_close  ibm_close  cisco_close\n",
       "apple_close      0.067522      0.018865   0.014369     0.017744\n",
       "amazon_close     0.018865      0.095045   0.014812     0.019831\n",
       "ibm_close        0.014369      0.014812   0.034547     0.017848\n",
       "cisco_close      0.017744      0.019831   0.017848     0.051129"
      ]
     },
     "execution_count": 19,
     "metadata": {},
     "output_type": "execute_result"
    }
   ],
   "source": [
    "returns.cov()*250"
   ]
  },
  {
   "cell_type": "code",
   "execution_count": 20,
   "metadata": {},
   "outputs": [
    {
     "data": {
      "text/html": [
       "<div>\n",
       "<style scoped>\n",
       "    .dataframe tbody tr th:only-of-type {\n",
       "        vertical-align: middle;\n",
       "    }\n",
       "\n",
       "    .dataframe tbody tr th {\n",
       "        vertical-align: top;\n",
       "    }\n",
       "\n",
       "    .dataframe thead th {\n",
       "        text-align: right;\n",
       "    }\n",
       "</style>\n",
       "<table border=\"1\" class=\"dataframe\">\n",
       "  <thead>\n",
       "    <tr style=\"text-align: right;\">\n",
       "      <th></th>\n",
       "      <th>apple_close</th>\n",
       "      <th>amazon_close</th>\n",
       "      <th>ibm_close</th>\n",
       "      <th>cisco_close</th>\n",
       "    </tr>\n",
       "  </thead>\n",
       "  <tbody>\n",
       "    <tr>\n",
       "      <th>apple_close</th>\n",
       "      <td>1.000000</td>\n",
       "      <td>0.235487</td>\n",
       "      <td>0.297498</td>\n",
       "      <td>0.301990</td>\n",
       "    </tr>\n",
       "    <tr>\n",
       "      <th>amazon_close</th>\n",
       "      <td>0.235487</td>\n",
       "      <td>1.000000</td>\n",
       "      <td>0.258492</td>\n",
       "      <td>0.284470</td>\n",
       "    </tr>\n",
       "    <tr>\n",
       "      <th>ibm_close</th>\n",
       "      <td>0.297498</td>\n",
       "      <td>0.258492</td>\n",
       "      <td>1.000000</td>\n",
       "      <td>0.424672</td>\n",
       "    </tr>\n",
       "    <tr>\n",
       "      <th>cisco_close</th>\n",
       "      <td>0.301990</td>\n",
       "      <td>0.284470</td>\n",
       "      <td>0.424672</td>\n",
       "      <td>1.000000</td>\n",
       "    </tr>\n",
       "  </tbody>\n",
       "</table>\n",
       "</div>"
      ],
      "text/plain": [
       "              apple_close  amazon_close  ibm_close  cisco_close\n",
       "apple_close      1.000000      0.235487   0.297498     0.301990\n",
       "amazon_close     0.235487      1.000000   0.258492     0.284470\n",
       "ibm_close        0.297498      0.258492   1.000000     0.424672\n",
       "cisco_close      0.301990      0.284470   0.424672     1.000000"
      ]
     },
     "execution_count": 20,
     "metadata": {},
     "output_type": "execute_result"
    }
   ],
   "source": [
    "returns.corr()"
   ]
  },
  {
   "cell_type": "code",
   "execution_count": 29,
   "metadata": {},
   "outputs": [
    {
     "data": {
      "text/html": [
       "<div>\n",
       "<style scoped>\n",
       "    .dataframe tbody tr th:only-of-type {\n",
       "        vertical-align: middle;\n",
       "    }\n",
       "\n",
       "    .dataframe tbody tr th {\n",
       "        vertical-align: top;\n",
       "    }\n",
       "\n",
       "    .dataframe thead th {\n",
       "        text-align: right;\n",
       "    }\n",
       "</style>\n",
       "<table border=\"1\" class=\"dataframe\">\n",
       "  <thead>\n",
       "    <tr style=\"text-align: right;\">\n",
       "      <th></th>\n",
       "      <th>apple_close</th>\n",
       "      <th>amazon_close</th>\n",
       "      <th>ibm_close</th>\n",
       "      <th>cisco_close</th>\n",
       "    </tr>\n",
       "    <tr>\n",
       "      <th>Date</th>\n",
       "      <th></th>\n",
       "      <th></th>\n",
       "      <th></th>\n",
       "      <th></th>\n",
       "    </tr>\n",
       "  </thead>\n",
       "  <tbody>\n",
       "    <tr>\n",
       "      <th>2012-01-03</th>\n",
       "      <td>NaN</td>\n",
       "      <td>NaN</td>\n",
       "      <td>NaN</td>\n",
       "      <td>NaN</td>\n",
       "    </tr>\n",
       "    <tr>\n",
       "      <th>2012-01-04</th>\n",
       "      <td>0.005360</td>\n",
       "      <td>-0.008526</td>\n",
       "      <td>-0.004088</td>\n",
       "      <td>0.019139</td>\n",
       "    </tr>\n",
       "    <tr>\n",
       "      <th>2012-01-05</th>\n",
       "      <td>0.011041</td>\n",
       "      <td>0.000563</td>\n",
       "      <td>-0.004754</td>\n",
       "      <td>-0.003693</td>\n",
       "    </tr>\n",
       "    <tr>\n",
       "      <th>2012-01-06</th>\n",
       "      <td>0.010400</td>\n",
       "      <td>0.027763</td>\n",
       "      <td>-0.011547</td>\n",
       "      <td>-0.003707</td>\n",
       "    </tr>\n",
       "    <tr>\n",
       "      <th>2012-01-09</th>\n",
       "      <td>-0.001587</td>\n",
       "      <td>-0.022428</td>\n",
       "      <td>-0.005218</td>\n",
       "      <td>0.006346</td>\n",
       "    </tr>\n",
       "  </tbody>\n",
       "</table>\n",
       "</div>"
      ],
      "text/plain": [
       "            apple_close  amazon_close  ibm_close  cisco_close\n",
       "Date                                                         \n",
       "2012-01-03          NaN           NaN        NaN          NaN\n",
       "2012-01-04     0.005360     -0.008526  -0.004088     0.019139\n",
       "2012-01-05     0.011041      0.000563  -0.004754    -0.003693\n",
       "2012-01-06     0.010400      0.027763  -0.011547    -0.003707\n",
       "2012-01-09    -0.001587     -0.022428  -0.005218     0.006346"
      ]
     },
     "execution_count": 29,
     "metadata": {},
     "output_type": "execute_result"
    }
   ],
   "source": [
    "log_returns=np.log(stocks/stocks.shift(1))#log can't deal percentage change\n",
    "log_returns.head()"
   ]
  },
  {
   "cell_type": "code",
   "execution_count": 31,
   "metadata": {},
   "outputs": [
    {
     "data": {
      "text/html": [
       "<div>\n",
       "<style scoped>\n",
       "    .dataframe tbody tr th:only-of-type {\n",
       "        vertical-align: middle;\n",
       "    }\n",
       "\n",
       "    .dataframe tbody tr th {\n",
       "        vertical-align: top;\n",
       "    }\n",
       "\n",
       "    .dataframe thead th {\n",
       "        text-align: right;\n",
       "    }\n",
       "</style>\n",
       "<table border=\"1\" class=\"dataframe\">\n",
       "  <thead>\n",
       "    <tr style=\"text-align: right;\">\n",
       "      <th></th>\n",
       "      <th>apple_close</th>\n",
       "      <th>amazon_close</th>\n",
       "      <th>ibm_close</th>\n",
       "      <th>cisco_close</th>\n",
       "    </tr>\n",
       "    <tr>\n",
       "      <th>Date</th>\n",
       "      <th></th>\n",
       "      <th></th>\n",
       "      <th></th>\n",
       "      <th></th>\n",
       "    </tr>\n",
       "  </thead>\n",
       "  <tbody>\n",
       "    <tr>\n",
       "      <th>2012-01-03</th>\n",
       "      <td>NaN</td>\n",
       "      <td>NaN</td>\n",
       "      <td>NaN</td>\n",
       "      <td>NaN</td>\n",
       "    </tr>\n",
       "    <tr>\n",
       "      <th>2012-01-04</th>\n",
       "      <td>0.005360</td>\n",
       "      <td>-0.008526</td>\n",
       "      <td>-0.004088</td>\n",
       "      <td>0.019139</td>\n",
       "    </tr>\n",
       "    <tr>\n",
       "      <th>2012-01-05</th>\n",
       "      <td>0.011041</td>\n",
       "      <td>0.000563</td>\n",
       "      <td>-0.004754</td>\n",
       "      <td>-0.003693</td>\n",
       "    </tr>\n",
       "    <tr>\n",
       "      <th>2012-01-06</th>\n",
       "      <td>0.010400</td>\n",
       "      <td>0.027763</td>\n",
       "      <td>-0.011547</td>\n",
       "      <td>-0.003707</td>\n",
       "    </tr>\n",
       "    <tr>\n",
       "      <th>2012-01-09</th>\n",
       "      <td>-0.001587</td>\n",
       "      <td>-0.022428</td>\n",
       "      <td>-0.005218</td>\n",
       "      <td>0.006346</td>\n",
       "    </tr>\n",
       "  </tbody>\n",
       "</table>\n",
       "</div>"
      ],
      "text/plain": [
       "            apple_close  amazon_close  ibm_close  cisco_close\n",
       "Date                                                         \n",
       "2012-01-03          NaN           NaN        NaN          NaN\n",
       "2012-01-04     0.005360     -0.008526  -0.004088     0.019139\n",
       "2012-01-05     0.011041      0.000563  -0.004754    -0.003693\n",
       "2012-01-06     0.010400      0.027763  -0.011547    -0.003707\n",
       "2012-01-09    -0.001587     -0.022428  -0.005218     0.006346"
      ]
     },
     "execution_count": 31,
     "metadata": {},
     "output_type": "execute_result"
    }
   ],
   "source": [
    "log_returns.head()"
   ]
  },
  {
   "cell_type": "code",
   "execution_count": 38,
   "metadata": {},
   "outputs": [
    {
     "data": {
      "image/png": "[encoded data removed]",
      "text/plain": [
       "<Figure size 864x576 with 4 Axes>"
      ]
     },
     "metadata": {
      "needs_background": "light"
     },
     "output_type": "display_data"
    }
   ],
   "source": [
    "log_returns.hist(bins=100,figsize=(12,8))\n",
    "plt.tight_layout()"
   ]
  },
  {
   "cell_type": "code",
   "execution_count": 40,
   "metadata": {},
   "outputs": [],
   "source": [
    "weights=np.random.random(4)\n",
    "weights/=np.sum(weights)"
   ]
  },
  {
   "cell_type": "code",
   "execution_count": 42,
   "metadata": {},
   "outputs": [
    {
     "data": {
      "text/plain": [
       "1.0"
      ]
     },
     "execution_count": 42,
     "metadata": {},
     "output_type": "execute_result"
    }
   ],
   "source": [
    "np.sum(weights)"
   ]
  },
  {
   "cell_type": "code",
   "execution_count": 80,
   "metadata": {},
   "outputs": [],
   "source": [
    "np.random.seed(101)\n",
    "return_portf=[]\n",
    "volat_portf=[]\n",
    "w1=[]\n",
    "w2=[]\n",
    "w3=[]\n",
    "w4=[]\n",
    "sharpe_ratio=[]\n",
    "for i in range(5000):\n",
    "    weights=np.random.random(4)\n",
    "    weights/=np.sum(weights)\n",
    "    w1.append(weights[0])\n",
    "    w2.append(weights[1])\n",
    "    w3.append(weights[2])\n",
    "    w4.append(weights[3])\n",
    "    ret=np.sum((log_returns.mean()*weights)*250)\n",
    "    vol=np.sqrt(np.dot(weights.T,np.dot(log_returns.cov()*250,weights)))\n",
    "    return_portf.append(ret)\n",
    "    volat_portf.append(vol)\n",
    "    sharpe_ratio.append(ret/vol)"
   ]
  },
  {
   "cell_type": "code",
   "execution_count": 84,
   "metadata": {},
   "outputs": [],
   "source": [
    "sharpe_ratio=np.array(sharpe_ratio)\n",
    "return_portf=np.array(return_portf)\n",
    "volat_portf=np.array(volat_portf)\n",
    "w1=np.array(w1)\n",
    "w2=np.array(w2)\n",
    "w3=np.array(w3)\n",
    "w4=np.array(w4)"
   ]
  },
  {
   "cell_type": "code",
   "execution_count": 85,
   "metadata": {},
   "outputs": [
    {
     "data": {
      "text/plain": [
       "1583"
      ]
     },
     "execution_count": 85,
     "metadata": {},
     "output_type": "execute_result"
    }
   ],
   "source": [
    "sharpe_ratio.argmax()"
   ]
  },
  {
   "cell_type": "code",
   "execution_count": 86,
   "metadata": {},
   "outputs": [
    {
     "data": {
      "text/plain": [
       "1.022369870063473"
      ]
     },
     "execution_count": 86,
     "metadata": {},
     "output_type": "execute_result"
    }
   ],
   "source": [
    "sharpe_ratio[1583]"
   ]
  },
  {
   "cell_type": "code",
   "execution_count": 89,
   "metadata": {},
   "outputs": [
    {
     "data": {
      "text/plain": [
       "(0.28594793438985255,\n",
       " 0.5429749824067808,\n",
       " 0.009773354290652238,\n",
       " 0.16130372891271444)"
      ]
     },
     "execution_count": 89,
     "metadata": {},
     "output_type": "execute_result"
    }
   ],
   "source": [
    "w1[1583],w2[1583],w3[1583],w4[1583]"
   ]
  },
  {
   "cell_type": "code",
   "execution_count": 79,
   "metadata": {},
   "outputs": [
    {
     "data": {
      "text/plain": [
       "1"
      ]
     },
     "execution_count": 79,
     "metadata": {},
     "output_type": "execute_result"
    }
   ],
   "source": []
  },
  {
   "cell_type": "code",
   "execution_count": null,
   "metadata": {},
   "outputs": [],
   "source": []
  }
 ],
 "metadata": {
  "kernelspec": {
   "display_name": "fin",
   "language": "python",
   "name": "fin"
  },
  "language_info": {
   "codemirror_mode": {
    "name": "ipython",
    "version": 3
   },
   "file_extension": ".py",
   "mimetype": "text/x-python",
   "name": "python",
   "nbconvert_exporter": "python",
   "pygments_lexer": "ipython3",
   "version": "3.8.5"
  }
 },
 "nbformat": 4,
 "nbformat_minor": 4
}
